{
 "cells": [
  {
   "cell_type": "markdown",
   "metadata": {
    "id": "CID_27ISaRpJ"
   },
   "source": [
    "# Implement LSH from scratch\n",
    "\n",
    "In this assignment, you will implement LSH from scratch and predict the labels of the test data. You will then verify the correctness of the your implementation using a \"grader\" function/cell (provided by us) which will match your implmentation.\n",
    "\n",
    "The grader fucntion would help you validate the correctness of your code. \n",
    "\n",
    "Please submit the final Colab notebook in the classroom ONLY after you have verified your code using the grader function/cell.\n",
    "\n",
    "\n",
    "**NOTE: DO NOT change the \"grader\" functions or code snippets written by us.Please add your code in the suggested locations.**\n",
    "\n",
    "Ethics Code:\n",
    "1. You are welcome to read up online resources to implement the code. \n",
    "2. You can also discuss with your classmates on the implmentation over Slack.\n",
    "3. But, the code you write and submit should be yours ONLY. Your code will be compared against other stduents' code and online code snippets to check for plagiarism. If your code is found to be plagiarised, you will be awarded zero-marks for all assignments, which have a 10% weightage in the final marks for this course."
   ]
  },
  {
   "cell_type": "markdown",
   "metadata": {
    "id": "mR49rnr6ibOX"
   },
   "source": [
    "## Reading the data from csv file"
   ]
  },
  {
   "cell_type": "code",
   "execution_count": 17,
   "metadata": {
    "colab": {
     "base_uri": "https://localhost:8080/"
    },
    "id": "gXNLRg93cPJN",
    "outputId": "4eddcbd2-f225-4126-d064-a4cf854f5cfc"
   },
   "outputs": [
    {
     "ename": "ModuleNotFoundError",
     "evalue": "No module named 'google'",
     "output_type": "error",
     "traceback": [
      "\u001b[1;31m---------------------------------------------------------------------------\u001b[0m",
      "\u001b[1;31mModuleNotFoundError\u001b[0m                       Traceback (most recent call last)",
      "\u001b[1;32m<ipython-input-17-60a22bb7dd4a>\u001b[0m in \u001b[0;36m<module>\u001b[1;34m\u001b[0m\n\u001b[0;32m      1\u001b[0m \u001b[1;31m# Code to mount google drive in case you are loading the data from your google drive\u001b[0m\u001b[1;33m\u001b[0m\u001b[1;33m\u001b[0m\u001b[1;33m\u001b[0m\u001b[0m\n\u001b[1;32m----> 2\u001b[1;33m \u001b[1;32mfrom\u001b[0m \u001b[0mgoogle\u001b[0m\u001b[1;33m.\u001b[0m\u001b[0mcolab\u001b[0m \u001b[1;32mimport\u001b[0m \u001b[0mdrive\u001b[0m\u001b[1;33m\u001b[0m\u001b[1;33m\u001b[0m\u001b[0m\n\u001b[0m\u001b[0;32m      3\u001b[0m \u001b[0mdrive\u001b[0m\u001b[1;33m.\u001b[0m\u001b[0mmount\u001b[0m\u001b[1;33m(\u001b[0m\u001b[1;34m'/gdrive'\u001b[0m\u001b[1;33m)\u001b[0m\u001b[1;33m\u001b[0m\u001b[1;33m\u001b[0m\u001b[0m\n\u001b[0;32m      4\u001b[0m \u001b[0mget_ipython\u001b[0m\u001b[1;33m(\u001b[0m\u001b[1;33m)\u001b[0m\u001b[1;33m.\u001b[0m\u001b[0mrun_line_magic\u001b[0m\u001b[1;33m(\u001b[0m\u001b[1;34m'cd'\u001b[0m\u001b[1;33m,\u001b[0m \u001b[1;34m'/gdrive'\u001b[0m\u001b[1;33m)\u001b[0m\u001b[1;33m\u001b[0m\u001b[1;33m\u001b[0m\u001b[0m\n",
      "\u001b[1;31mModuleNotFoundError\u001b[0m: No module named 'google'"
     ]
    }
   ],
   "source": [
    "# Code to mount google drive in case you are loading the data from your google drive\n",
    "from google.colab import drive\n",
    "drive.mount('/gdrive')\n",
    "%cd /gdrive"
   ]
  },
  {
   "cell_type": "code",
   "execution_count": null,
   "metadata": {
    "colab": {
     "base_uri": "https://localhost:8080/",
     "height": 441
    },
    "id": "oA1hSk2odHUy",
    "outputId": "80fe744c-bdfa-4a1b-f25d-1cc508acfea3"
   },
   "outputs": [],
   "source": [
    "# Loading data from csv file\n",
    "import pandas as pd\n",
    "data_path = '/gdrive/MyDrive/lsh_assignment_data.csv'\n",
    "\n",
    "df = pd.read_csv(data_path)\n",
    "df"
   ]
  },
  {
   "cell_type": "code",
   "execution_count": null,
   "metadata": {},
   "outputs": [],
   "source": [
    "# Loding data from the local machine\n",
    "import pandas as pd\n",
    "data_path = 'lsh_assignment_data.csv'\n",
    "\n",
    "df = pd.read_csv(data_path)\n",
    "df"
   ]
  },
  {
   "cell_type": "code",
   "execution_count": null,
   "metadata": {
    "colab": {
     "base_uri": "https://localhost:8080/"
    },
    "id": "cKHb7v5edUiU",
    "outputId": "48b6e476-88c3-49c3-d4cf-19ae22baf617"
   },
   "outputs": [],
   "source": [
    "# Data Overiview\n",
    "df['category'].value_counts()"
   ]
  },
  {
   "cell_type": "markdown",
   "metadata": {
    "id": "Mcpy_Nrnig9V"
   },
   "source": [
    "### Creating Train and Test Datasets\n",
    "\n",
    "Note that the labels for test data will not be present in the dataset and hence they are mentioned as NaN."
   ]
  },
  {
   "cell_type": "code",
   "execution_count": null,
   "metadata": {
    "id": "ncAK-oHFeKbS"
   },
   "outputs": [],
   "source": [
    "# The last 10 rows in the csv file are query points, so loading them into test data.\n",
    "# And loading the reamining points to train_data for which labels are given.\n",
    "\n",
    "train_data = df.iloc[:-10,:]\n",
    "test_data = df.iloc[-10:,:]"
   ]
  },
  {
   "cell_type": "code",
   "execution_count": 18,
   "metadata": {
    "colab": {
     "base_uri": "https://localhost:8080/",
     "height": 441
    },
    "id": "bs7uYx-1fh66",
    "outputId": "65471577-9130-40e2-d266-4c9546674b78"
   },
   "outputs": [
    {
     "data": {
      "text/html": [
       "<div>\n",
       "<style scoped>\n",
       "    .dataframe tbody tr th:only-of-type {\n",
       "        vertical-align: middle;\n",
       "    }\n",
       "\n",
       "    .dataframe tbody tr th {\n",
       "        vertical-align: top;\n",
       "    }\n",
       "\n",
       "    .dataframe thead th {\n",
       "        text-align: right;\n",
       "    }\n",
       "</style>\n",
       "<table border=\"1\" class=\"dataframe\">\n",
       "  <thead>\n",
       "    <tr style=\"text-align: right;\">\n",
       "      <th></th>\n",
       "      <th>category</th>\n",
       "      <th>text</th>\n",
       "    </tr>\n",
       "  </thead>\n",
       "  <tbody>\n",
       "    <tr>\n",
       "      <th>0</th>\n",
       "      <td>tech</td>\n",
       "      <td>tv future in the hands of viewers with home th...</td>\n",
       "    </tr>\n",
       "    <tr>\n",
       "      <th>1</th>\n",
       "      <td>business</td>\n",
       "      <td>worldcom boss  left books alone  former worldc...</td>\n",
       "    </tr>\n",
       "    <tr>\n",
       "      <th>2</th>\n",
       "      <td>sport</td>\n",
       "      <td>tigers wary of farrell  gamble  leicester say ...</td>\n",
       "    </tr>\n",
       "    <tr>\n",
       "      <th>3</th>\n",
       "      <td>sport</td>\n",
       "      <td>yeading face newcastle in fa cup premiership s...</td>\n",
       "    </tr>\n",
       "    <tr>\n",
       "      <th>4</th>\n",
       "      <td>entertainment</td>\n",
       "      <td>ocean s twelve raids box office ocean s twelve...</td>\n",
       "    </tr>\n",
       "    <tr>\n",
       "      <th>...</th>\n",
       "      <td>...</td>\n",
       "      <td>...</td>\n",
       "    </tr>\n",
       "    <tr>\n",
       "      <th>2210</th>\n",
       "      <td>politics</td>\n",
       "      <td>teens  know little  of politics teenagers ques...</td>\n",
       "    </tr>\n",
       "    <tr>\n",
       "      <th>2211</th>\n",
       "      <td>entertainment</td>\n",
       "      <td>lopez misses uk charity premiere jennifer lope...</td>\n",
       "    </tr>\n",
       "    <tr>\n",
       "      <th>2212</th>\n",
       "      <td>business</td>\n",
       "      <td>christmas shoppers flock to tills shops all ov...</td>\n",
       "    </tr>\n",
       "    <tr>\n",
       "      <th>2213</th>\n",
       "      <td>tech</td>\n",
       "      <td>progress on new internet domains by early 2005...</td>\n",
       "    </tr>\n",
       "    <tr>\n",
       "      <th>2214</th>\n",
       "      <td>business</td>\n",
       "      <td>bush budget seeks deep cutbacks president bush...</td>\n",
       "    </tr>\n",
       "  </tbody>\n",
       "</table>\n",
       "<p>2215 rows × 2 columns</p>\n",
       "</div>"
      ],
      "text/plain": [
       "           category                                               text\n",
       "0              tech  tv future in the hands of viewers with home th...\n",
       "1          business  worldcom boss  left books alone  former worldc...\n",
       "2             sport  tigers wary of farrell  gamble  leicester say ...\n",
       "3             sport  yeading face newcastle in fa cup premiership s...\n",
       "4     entertainment  ocean s twelve raids box office ocean s twelve...\n",
       "...             ...                                                ...\n",
       "2210       politics  teens  know little  of politics teenagers ques...\n",
       "2211  entertainment  lopez misses uk charity premiere jennifer lope...\n",
       "2212       business  christmas shoppers flock to tills shops all ov...\n",
       "2213           tech  progress on new internet domains by early 2005...\n",
       "2214       business  bush budget seeks deep cutbacks president bush...\n",
       "\n",
       "[2215 rows x 2 columns]"
      ]
     },
     "execution_count": 18,
     "metadata": {},
     "output_type": "execute_result"
    }
   ],
   "source": [
    "# For train_data here the labels are in the column named \"category\".\n",
    "train_data"
   ]
  },
  {
   "cell_type": "code",
   "execution_count": 19,
   "metadata": {
    "colab": {
     "base_uri": "https://localhost:8080/",
     "height": 380
    },
    "id": "fc-SORtAfgqI",
    "outputId": "445e369c-1a89-4fdd-c46d-7ad07de73c63"
   },
   "outputs": [
    {
     "data": {
      "text/html": [
       "<div>\n",
       "<style scoped>\n",
       "    .dataframe tbody tr th:only-of-type {\n",
       "        vertical-align: middle;\n",
       "    }\n",
       "\n",
       "    .dataframe tbody tr th {\n",
       "        vertical-align: top;\n",
       "    }\n",
       "\n",
       "    .dataframe thead th {\n",
       "        text-align: right;\n",
       "    }\n",
       "</style>\n",
       "<table border=\"1\" class=\"dataframe\">\n",
       "  <thead>\n",
       "    <tr style=\"text-align: right;\">\n",
       "      <th></th>\n",
       "      <th>category</th>\n",
       "      <th>text</th>\n",
       "    </tr>\n",
       "  </thead>\n",
       "  <tbody>\n",
       "    <tr>\n",
       "      <th>2215</th>\n",
       "      <td>NaN</td>\n",
       "      <td>junk e-mails on relentless rise spam traffic i...</td>\n",
       "    </tr>\n",
       "    <tr>\n",
       "      <th>2216</th>\n",
       "      <td>NaN</td>\n",
       "      <td>top stars join us tsunami tv show brad pitt  r...</td>\n",
       "    </tr>\n",
       "    <tr>\n",
       "      <th>2217</th>\n",
       "      <td>NaN</td>\n",
       "      <td>rings of steel combat net attacks gambling is ...</td>\n",
       "    </tr>\n",
       "    <tr>\n",
       "      <th>2218</th>\n",
       "      <td>NaN</td>\n",
       "      <td>davies favours gloucester future wales hooker ...</td>\n",
       "    </tr>\n",
       "    <tr>\n",
       "      <th>2219</th>\n",
       "      <td>NaN</td>\n",
       "      <td>beijingers fume over parking fees choking traf...</td>\n",
       "    </tr>\n",
       "    <tr>\n",
       "      <th>2220</th>\n",
       "      <td>NaN</td>\n",
       "      <td>cars pull down us retail figures us retail sal...</td>\n",
       "    </tr>\n",
       "    <tr>\n",
       "      <th>2221</th>\n",
       "      <td>NaN</td>\n",
       "      <td>kilroy unveils immigration policy ex-chatshow ...</td>\n",
       "    </tr>\n",
       "    <tr>\n",
       "      <th>2222</th>\n",
       "      <td>NaN</td>\n",
       "      <td>rem announce new glasgow concert us band rem h...</td>\n",
       "    </tr>\n",
       "    <tr>\n",
       "      <th>2223</th>\n",
       "      <td>NaN</td>\n",
       "      <td>how political squabbles snowball it s become c...</td>\n",
       "    </tr>\n",
       "    <tr>\n",
       "      <th>2224</th>\n",
       "      <td>NaN</td>\n",
       "      <td>souness delight at euro progress boss graeme s...</td>\n",
       "    </tr>\n",
       "  </tbody>\n",
       "</table>\n",
       "</div>"
      ],
      "text/plain": [
       "     category                                               text\n",
       "2215      NaN  junk e-mails on relentless rise spam traffic i...\n",
       "2216      NaN  top stars join us tsunami tv show brad pitt  r...\n",
       "2217      NaN  rings of steel combat net attacks gambling is ...\n",
       "2218      NaN  davies favours gloucester future wales hooker ...\n",
       "2219      NaN  beijingers fume over parking fees choking traf...\n",
       "2220      NaN  cars pull down us retail figures us retail sal...\n",
       "2221      NaN  kilroy unveils immigration policy ex-chatshow ...\n",
       "2222      NaN  rem announce new glasgow concert us band rem h...\n",
       "2223      NaN  how political squabbles snowball it s become c...\n",
       "2224      NaN  souness delight at euro progress boss graeme s..."
      ]
     },
     "execution_count": 19,
     "metadata": {},
     "output_type": "execute_result"
    }
   ],
   "source": [
    "test_data"
   ]
  },
  {
   "cell_type": "markdown",
   "metadata": {
    "id": "U1jeyM0emKOw"
   },
   "source": [
    "## Custom Implementation"
   ]
  },
  {
   "cell_type": "markdown",
   "metadata": {
    "id": "AU6mt5wq3Oyg"
   },
   "source": [
    "### Instructions:\n",
    "\n",
    "  1. Read in the train_data.\n",
    "  2. Vectorize train_data using sklearns built in tfidf vectorizer.\n",
    "  3. Ignore unigrams and make use of both **bigrams & trigrams** and also limit the **max features** to **4000** and **minimum document frequency** to **10**.\n",
    "  4. After the tfidf vectors are generated as mentioned above, next task is to generate random hyperplanes.\n",
    "  5. Generate **5 random hyperplanes**. And generate the hyperplanes using a random normal distribution with **mean zero and variance 1**. \n",
    "  6. We have set the **numpy random seed to zero**, please do not change it. And then you can make use of **np.random.normal** to generate the vectors for hyperplanes.\n",
    "  7. As mentioned in the course videos, compute the hash function and also the corresponding hash table for it.\n",
    "  8. Once the hash table is generated now take in each of the query points from the test data.\n",
    "  9. Vectorize those query points using the same tfidf vectorizer as mentioned above.\n",
    "  10. Now use the hash function on this query point and fetch all the similar data points from the hashtable.\n",
    "  11. Use cosine similarity to compute **11-Nearest Neighbours** from the list of data points obtained in the above step.\n",
    "  12. Take a majority vote among the 11-Nearest Neighbours and predict the class label for the query point in the test data.\n",
    "  13. **In case of a tie** in the obtained labels from nearest neighbours, you can pick a label after sorting all the labels **alphabetically**(A-Z), i.e. for example labels starting with A would get more preference than labels starting with Z.\n",
    "  14. Repeat steps 9 to 13 for all the points in the test data and then finally return a list with all the predicted labels.\n",
    "  15. Note that there are a total of 10 data points in the test data so the final list you return should be of length 10.\n",
    "  16. Also note that the cosine similarity function should be written from scratch, you should not directly make use of existing libraries.\n",
    "  17. Please use the formula of cosine similarity as explained in the course videos, you can make use of numpy or scipy to calculate dot or norm or transpose."
   ]
  },
  {
   "cell_type": "code",
   "execution_count": 20,
   "metadata": {
    "colab": {
     "base_uri": "https://localhost:8080/"
    },
    "id": "fRdlZaeVhrQA",
    "outputId": "3c8936b5-1218-4917-9e3c-93fac9f42a5d"
   },
   "outputs": [
    {
     "name": "stderr",
     "output_type": "stream",
     "text": [
      "[nltk_data] Downloading package wordnet to\n",
      "[nltk_data]     C:\\Users\\Santhosh\\AppData\\Roaming\\nltk_data...\n",
      "[nltk_data]   Package wordnet is already up-to-date!\n"
     ]
    }
   ],
   "source": [
    "#Import Section\n",
    "import re\n",
    "from sklearn.feature_extraction.text import TfidfVectorizer\n",
    "from bs4 import BeautifulSoup\n",
    "from tqdm import tqdm\n",
    "from nltk.corpus import stopwords\n",
    "from nltk.stem import PorterStemmer\n",
    "from nltk.stem.snowball import SnowballStemmer\n",
    "from nltk.stem.wordnet import WordNetLemmatizer\n",
    "import pandas as pd\n",
    "import nltk\n",
    "import numpy as np\n",
    "nltk.download('wordnet')\n",
    "from scipy import stats\n",
    "from scipy import spatial\n",
    "import collections\n",
    "import statistics"
   ]
  },
  {
   "cell_type": "code",
   "execution_count": 21,
   "metadata": {
    "id": "UwVdYEJVh5RB"
   },
   "outputs": [],
   "source": [
    "# Preprocessing Step\n",
    "def preprocessing(trainortest_data):\n",
    "  preprocessed_reviews = []\n",
    "  # tqdm is for printing the status bar\n",
    "  for sentance in tqdm(trainortest_data):\n",
    "    # No Https or html tags in text Values hence masking below step\n",
    "    #sentance = re.sub(r\"http\\S+\", \"\", sentance)\n",
    "    #sentance = BeautifulSoup(sentance, 'lxml').get_text()\n",
    "    sentance = re.sub(r\"won't\", \"will not\", sentance)\n",
    "    sentance = re.sub(r\"can\\'t\", \"can not\", sentance)\n",
    "    # general\n",
    "    sentance = re.sub(r\"n\\'t\", \" not\", sentance)\n",
    "    sentance = re.sub(r\"\\'re\", \" are\", sentance)\n",
    "    sentance = re.sub(r\"\\'s\", \" is\", sentance)\n",
    "    sentance = re.sub(r\"\\'d\", \" would\", sentance)\n",
    "    sentance = re.sub(r\"\\'ll\", \" will\", sentance)\n",
    "    sentance = re.sub(r\"\\'t\", \" not\", sentance)\n",
    "    sentance = re.sub(r\"\\'ve\", \" have\", sentance)\n",
    "    sentance = re.sub(r\"\\'m\", \" am\", sentance)\n",
    "    # Removing Words with Numbers if any \n",
    "    sentance = re.sub(\"\\S*\\d\\S*\", \"\", sentance).strip()\n",
    "    #Removing special Charectors observed $ , . , % , -, Â£ alot in data\n",
    "    sentance = re.sub('[^A-Za-z]+', ' ', sentance)\n",
    "    #Trying with stem using porter stemer , snow ball stemmer and word net lemmatiser and selecting the best one\n",
    "    #ps = PorterStemmer()\n",
    "    #snow_stemmer = SnowballStemmer(language='english')\n",
    "    wordnet_lemmatizer = WordNetLemmatizer()\n",
    "    #sentance = ' '.join(e.lower() for e in sentance.split() if e.lower() not in stopwords) \n",
    "    #sentance = ' '.join(ps.stem(e.lower()) for e in sentance.split() if ps.stem(e.lower()) not in stoppedwords)\n",
    "    #sentance = ' '.join(snow_stemmer.stem(e.lower()) for e in sentance.split() if snow_stemmer.stem(e.lower()) not in stopwords) \n",
    "    sentance = ' '.join(wordnet_lemmatizer.lemmatize(e.lower()) for e in sentance.split())\n",
    "    preprocessed_reviews.append(sentance.strip())\n",
    "    # saving temp file to cloud\n",
    "  '''%cd /gdrive/My Drive/\n",
    "  pd.DataFrame(preprocessed_reviews).to_csv('check.csv')'''\n",
    "  return preprocessed_reviews"
   ]
  },
  {
   "cell_type": "code",
   "execution_count": 22,
   "metadata": {
    "id": "g28WaRXsmysE"
   },
   "outputs": [],
   "source": [
    "# Hash Function\n",
    "\n",
    "def hash_function(bin_bit_representation):\n",
    "  '''we will get an example bin_bit_representation as [1,0,1,1,0] as we have 5 hyper planes now we will convert that using following hash function \n",
    "  let we have a vector [1,2,4,8,16] which is [2^0,2^1,2^2,2^3,2^4] as we will do dot product of our bin_bit_representation with [2^0,2^1,2^2,2^3,2^4] to get the hash keys ranging from 1 to 31 \n",
    "  for our example our hash function convert [1,0,1,1,0] to 1*1+0*2+1*4+1*8+0*16 = 13'''\n",
    "  hashfunctionreferencelist = 1 << np.arange(5 - 1, -1, step=-1) \n",
    "  bin_indices = bin_bit_representation.dot(hashfunctionreferencelist)\n",
    "  return bin_indices\n"
   ]
  },
  {
   "cell_type": "code",
   "execution_count": 23,
   "metadata": {
    "id": "YECivOCWfvGn"
   },
   "outputs": [],
   "source": [
    "# Please implement this fucntion and write your code wherever asked. Do NOT change the code snippets provided by us.\n",
    "\n",
    "import numpy as np\n",
    "\n",
    "def predictLabels (test_data):\n",
    "  \"\"\"\n",
    "  Given the test_data, return the labels for all the rows in the test data.\n",
    "  Follow the step by step instructions mentioned above.\n",
    "  \"\"\"\n",
    "\n",
    "  np.random.seed(0)\n",
    "\n",
    "  ##############################################################\n",
    "  ####  Write YOUR CODE BELOW  as per the above instructions ###\n",
    "  ##############################################################\n",
    "  #Preprocessing the reviews\n",
    "  preprocessed_reviews = train_data.text\n",
    "  #-------------------------------TRAINING PHASE --------------------------------------------------#\n",
    "  preprocessed_reviews = preprocessing(train_data.text)\n",
    "\n",
    "  ''' as we are only considering bigrams and trigrams ngrams = (2,3), minimum document ferequency is 10 and maximum number of features are 4000 and removing the english stop words if neccesary'''\n",
    "\n",
    "  #vectorizer = TfidfVectorizer(ngram_range = (2,3),min_df = 10,max_features=4000,stop_words='english')\n",
    "  vectorizer = TfidfVectorizer(ngram_range = (2,3),min_df = 10,max_features=4000)\n",
    "  tf_idf_vector_processed_reviews = vectorizer.fit_transform(preprocessed_reviews)\n",
    "\n",
    "\n",
    "  # generating the 5 hyper planes with the same dimension as tf_idf features\n",
    "  random_hyper_planes = []\n",
    "  for i in range(5):\n",
    "    random_hyper_planes.append(np.random.normal(0,1,tf_idf_vector_processed_reviews.shape[1]))\n",
    "\n",
    "\n",
    "  '''we will get an example bin_bit_representation as [1,0,1,1,0] as we have 5 hyper planes now we will convert that using following hash function \n",
    "  let we have a vector [1,2,4,8,16] which is [2^0,2^1,2^2,2^3,2^4] as we will do dot product of our bin_bit_representation with [2^0,2^1,2^2,2^3,2^4] to get the hash keys ranging from 1 to 31 \n",
    "  for our example our hash function convert [1,0,1,1,0] to 1*1+0*2+1*4+1*8+0*16 = 13'''\n",
    "  hashfunctionreferencelist = 1 << np.arange(5 - 1, -1, step=-1)\n",
    "\n",
    "  #initialising hash table\n",
    "  hashtable=dict()\n",
    "  for value in range(2**5):\n",
    "    hashtable[value]=[]\n",
    "  \n",
    "  # converting every point in the training set to bitwise representation with 1 if it is in the direction of the wT and 0 if it is other direction and running it through hash function and identifiying the hashtable\n",
    "  for review in tqdm(range(tf_idf_vector_processed_reviews.toarray().shape[0])):\n",
    "    bin_vector = []\n",
    "    for random_hyper_plane in random_hyper_planes:\n",
    "      bin_vector.append(np.dot(random_hyper_plane,tf_idf_vector_processed_reviews[i][0].toarray()[0])>=0.0)\n",
    "    hashtable[np.dot(bin_vector,[1,2,4,8,16])].append((tf_idf_vector_processed_reviews[review],train_data.category.values[review]))\n",
    "  #-------------------------------TRAINING PHASE --------------------------------------------------#\n",
    "\n",
    "\n",
    "  #-------------------------------TESTING PHASE --------------------------------------------------#\n",
    "  testing_prediction = []\n",
    "  #preprocessed_test_reviews = test_data.text\n",
    "  preprocessed_test_reviews = preprocessing(test_data.text)\n",
    "  tf_idf_vector_processed_test_reviews = vectorizer.transform(preprocessed_test_reviews)\n",
    "  for review in tqdm(range(tf_idf_vector_processed_test_reviews.shape[0])):\n",
    "    bin_vector = []\n",
    "    for random_hyper_plane in random_hyper_planes:\n",
    "      bin_vector.append(np.dot(random_hyper_plane,tf_idf_vector_processed_reviews[i][0].toarray()[0])>=0.0)\n",
    "\n",
    "\n",
    "    # Identifying neighbor bins for each test Query point\n",
    "    neighbouring_bins=list(hashtable[np.dot(bin_vector,[1,2,4,8,16])])\n",
    "\n",
    "    # finding the cosine similarities of all the neighbouring points to the query point\n",
    "    cosine_similarities = []\n",
    "    for bin_point in range(len(neighbouring_bins)):\n",
    "      # cosine_similarity(a,b) = dot(a.b)/||a||*||b||\n",
    "      #cosine_similarity = 1 - spatial.distance.cosine(neighbouring_bins[bin_point].toarray()[0], tf_idf_vector_processed_test_reviews[review][0].toarray()[0])\n",
    "      cosine_similarity = np.dot(neighbouring_bins[bin_point][0].toarray()[0],tf_idf_vector_processed_test_reviews[review][0].toarray()[0])/(np.linalg.norm(neighbouring_bins[bin_point][0].toarray()[0])*np.linalg.norm(tf_idf_vector_processed_test_reviews[review][0].toarray()[0]))\n",
    "      cosine_similarities.append(cosine_similarity)\n",
    "\n",
    "\n",
    "    # identifiying the cosine similarities of 11 nearest neighbours\n",
    "    testing_prediction.append(list(neighbouring_bins[value][1] for value in np.argsort(cosine_similarities)[-11:]))\n",
    "\n",
    "\n",
    "  # Finding the majority of the every element (list of 11 nearest neighbours of the query points) testing_prediction array and using alphabetical order in case of tie\n",
    "  final_testing_pred=[]\n",
    "  for query_predictions in testing_prediction:\n",
    "    counter=list(collections.Counter(query_predictions).items())\n",
    "    counter = sorted(list(collections.Counter(query_predictions).items()), key=lambda x: x[1],reverse=True)\n",
    "    max = 0\n",
    "    final_classlabel=\"\"\n",
    "    for counts in counter:\n",
    "      if counts[1] > max :\n",
    "        max = counts[1]\n",
    "        final_classlabel = counts[0]\n",
    "      elif counts[1] == max:\n",
    "        final_classlabel = min(counts[0],final_classlabel)\n",
    "      else:\n",
    "        pass\n",
    "    final_testing_pred.append(final_classlabel)\n",
    "  print(\"\")\n",
    "  return final_testing_pred\n",
    "  #-------------------------------TESTING PHASE --------------------------------------------------#\n",
    "\n",
    "\n"
   ]
  },
  {
   "cell_type": "markdown",
   "metadata": {
    "id": "rhnngvQkrnBB"
   },
   "source": [
    "## Grader Cell\n",
    "\n",
    "Please execute the following Grader cell to verify the correctness of your above implementation. This cell will print \"Success\" if your implmentation of the predictLabels() is correct, else, it will print \"Failed\". Make sure you get a \"Success\" before you submit the code in the classroom."
   ]
  },
  {
   "cell_type": "code",
   "execution_count": 24,
   "metadata": {
    "colab": {
     "base_uri": "https://localhost:8080/"
    },
    "id": "GX1sji2XrtmX",
    "outputId": "085c5e37-04e5-4aa2-fee2-e69d236b4b24"
   },
   "outputs": [
    {
     "name": "stderr",
     "output_type": "stream",
     "text": [
      "100%|█████████████████████████████████████████████████████████████████████████████████| 2215/2215 [00:07<00:00, 316.27it/s]\n",
      "100%|█████████████████████████████████████████████████████████████████████████████████| 2215/2215 [00:03<00:00, 724.53it/s]\n",
      "100%|█████████████████████████████████████████████████████████████████████████████████████| 10/10 [00:00<00:00, 303.02it/s]\n",
      "100%|██████████████████████████████████████████████████████████████████████████████████████| 10/10 [00:12<00:00,  1.23s/it]"
     ]
    },
    {
     "name": "stdout",
     "output_type": "stream",
     "text": [
      "\n",
      "******** Success ******** Accuracy Achieved =  100 %\n"
     ]
    },
    {
     "name": "stderr",
     "output_type": "stream",
     "text": [
      "\n"
     ]
    }
   ],
   "source": [
    "###########################################\n",
    "## GRADER CELL: Do NOT Change this.\n",
    "# This cell will print \"Success\" if your implmentation of the predictLabels() is correct and the accuracy obtained is above 80%.\n",
    "# Else, it will print \"Failed\"\n",
    "###########################################\n",
    "import numpy as np\n",
    "\n",
    "# Predict the labels using the predictLabels() function\n",
    "Y_custom = np.array(predictLabels(test_data))\n",
    "\n",
    "# Reference grader array - DO NOT MODIFY IT\n",
    "Y_grader = np.array(['tech', 'entertainment', 'tech', 'sport', 'business', 'business', 'politics', 'entertainment', 'politics', 'sport'])\n",
    "\n",
    "# Calculating accuracy by comparing Y_grader and Y_custom\n",
    "accuracy = np.sum(Y_grader==Y_custom) * 10\n",
    "\n",
    "if accuracy >= 80:\n",
    "  print(\"******** Success ********\",\"Accuracy Achieved = \", accuracy,'%')\n",
    "else:\n",
    "  print(\"####### Failed #######\",\"Accuracy Achieved = \", accuracy,'%')\n",
    "  print(\"\\nY_grader = \\n\\n\", Y_grader)\n",
    "  print(\"\\n\",\"*\"*50)\n",
    "  print(\"\\nY_custom = \\n\\n\", Y_custom)\n"
   ]
  },
  {
   "cell_type": "code",
   "execution_count": null,
   "metadata": {},
   "outputs": [],
   "source": []
  }
 ],
 "metadata": {
  "colab": {
   "collapsed_sections": [],
   "name": "Copy of LSH from Scratch Assignment.ipynb",
   "provenance": []
  },
  "kernelspec": {
   "display_name": "Python 3",
   "language": "python",
   "name": "python3"
  },
  "language_info": {
   "codemirror_mode": {
    "name": "ipython",
    "version": 3
   },
   "file_extension": ".py",
   "mimetype": "text/x-python",
   "name": "python",
   "nbconvert_exporter": "python",
   "pygments_lexer": "ipython3",
   "version": "3.8.8"
  }
 },
 "nbformat": 4,
 "nbformat_minor": 1
}

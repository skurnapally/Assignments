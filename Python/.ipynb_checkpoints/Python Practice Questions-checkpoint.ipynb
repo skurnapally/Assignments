{
 "cells": [
  {
   "cell_type": "markdown",
   "id": "8208d35e",
   "metadata": {},
   "source": [
    "## Import Section"
   ]
  },
  {
   "cell_type": "code",
   "execution_count": 69,
   "id": "0a039e59",
   "metadata": {},
   "outputs": [],
   "source": [
    "import math"
   ]
  },
  {
   "cell_type": "markdown",
   "id": "eb32161e",
   "metadata": {},
   "source": [
    "## Question:1  Write a function that inputs a number and prints the multiplication table of that number"
   ]
  },
  {
   "cell_type": "code",
   "execution_count": 70,
   "id": "8e0a5f51",
   "metadata": {},
   "outputs": [
    {
     "name": "stdout",
     "output_type": "stream",
     "text": [
      "1000 X 1 = 1000\n",
      "1000 X 2 = 2000\n",
      "1000 X 3 = 3000\n",
      "1000 X 4 = 4000\n",
      "1000 X 5 = 5000\n",
      "1000 X 6 = 6000\n",
      "1000 X 7 = 7000\n",
      "1000 X 8 = 8000\n",
      "1000 X 9 = 9000\n",
      "1000 X 10 = 10000\n"
     ]
    }
   ],
   "source": [
    "def multiplication_table(num):\n",
    "    for sel in range(1,11):\n",
    "        print(num,'X',sel ,'=',num*sel)\n",
    "multiplication_table(1000)"
   ]
  },
  {
   "cell_type": "markdown",
   "id": "d025be62",
   "metadata": {},
   "source": [
    "## Question 2: Write a program to print twin primes  less than 1000. If two consecutive odd numbers are both prime then they are known as twin primes"
   ]
  },
  {
   "cell_type": "code",
   "execution_count": 71,
   "id": "d5262499",
   "metadata": {},
   "outputs": [
    {
     "name": "stdout",
     "output_type": "stream",
     "text": [
      "[(3, 5), (5, 7), (11, 13), (17, 19), (29, 31), (41, 43), (59, 61), (71, 73), (101, 103), (107, 109), (137, 139), (149, 151), (179, 181), (191, 193), (197, 199), (227, 229), (239, 241), (269, 271), (281, 283), (311, 313), (347, 349), (419, 421), (431, 433), (461, 463), (521, 523), (569, 571), (599, 601), (617, 619), (641, 643), (659, 661), (809, 811), (821, 823), (827, 829), (857, 859), (881, 883)]\n",
      "CPU times: user 6.68 ms, sys: 211 µs, total: 6.89 ms\n",
      "Wall time: 6.75 ms\n"
     ]
    }
   ],
   "source": [
    "%%time\n",
    "def twinprimes(num):\n",
    "    if num == 1:\n",
    "        return []\n",
    "    else:\n",
    "        primelist = [2]\n",
    "        twin_prime = []\n",
    "        for sel in range(3,num+1,2):\n",
    "            for val in range(2,math.ceil(sel/2)+1):\n",
    "                if sel%val == 0:\n",
    "                    break\n",
    "                elif val == math.ceil(sel/2):\n",
    "                    primelist.append(sel)\n",
    "                    if primelist[-1] - primelist[-2] == 2:\n",
    "                        twin_prime.append((primelist[-2],primelist[-1]))\n",
    "        print(twin_prime) \n",
    "    \n",
    "            \n",
    "twinprimes(1000)"
   ]
  },
  {
   "cell_type": "markdown",
   "id": "a4246d7d",
   "metadata": {},
   "source": [
    "## Question 3: Write a program to find out the prime factors of a number. Example: prime factors of 56 - 2, 2, 2, 7"
   ]
  },
  {
   "cell_type": "code",
   "execution_count": 72,
   "id": "acd20fd8",
   "metadata": {},
   "outputs": [
    {
     "name": "stdout",
     "output_type": "stream",
     "text": [
      "CPU times: user 17 µs, sys: 2 µs, total: 19 µs\n",
      "Wall time: 21 µs\n"
     ]
    },
    {
     "data": {
      "text/plain": [
       "'2,2,2,7'"
      ]
     },
     "execution_count": 72,
     "metadata": {},
     "output_type": "execute_result"
    }
   ],
   "source": [
    "%%time\n",
    "def primefact(n):\n",
    "    primefactlist=[]\n",
    "    # Print the number of two's that divide n\n",
    "    while n % 2 == 0:\n",
    "        primefactlist.append(str(2)),\n",
    "        n = n / 2        \n",
    "    # n must be odd at this point\n",
    "    # so a skip of 2 ( i = i + 2) can be used\n",
    "    for i in range(3,int(math.sqrt(n))+1,2):     \n",
    "        # while i divides n , print i and divide n\n",
    "        while n % i== 0:\n",
    "            primefactlist.append(str(i)),\n",
    "            n = n / i           \n",
    "    # Condition if n is a prime\n",
    "    # number greater than 2\n",
    "    if n > 2:\n",
    "        primefactlist.append(str(int(n)))\n",
    "    return ','.join(primefactlist)\n",
    "        \n",
    "primefact(56)"
   ]
  },
  {
   "cell_type": "markdown",
   "id": "3af733d0",
   "metadata": {},
   "source": [
    "## Question 4 : Write a program to implement these formulae of permutations and combinations. Number of permutations of n objects taken r at a time: p(n, r) = n! / (n-r)!.  Number of combinations of n objects taken r at a time is: c(n, r) = n! / (r!*(n-r)!) = p(n,r) / r!"
   ]
  },
  {
   "cell_type": "code",
   "execution_count": 73,
   "id": "c4b8eac6",
   "metadata": {},
   "outputs": [
    {
     "name": "stdout",
     "output_type": "stream",
     "text": [
      "p(n,r) :  90.0\n",
      "c(n,r) :  45.0\n",
      "CPU times: user 164 µs, sys: 192 µs, total: 356 µs\n",
      "Wall time: 233 µs\n"
     ]
    }
   ],
   "source": [
    "%%time\n",
    "def permutate_combi(n,r):\n",
    "    if n < r or n <= 0 or r <=0:\n",
    "        return 'please give n values greater than r or give n and r greater than 0'\n",
    "    else:\n",
    "        n_fact=1\n",
    "        n_r_fact = 1\n",
    "        r_fact = 1\n",
    "        for val in range(1,n+1):\n",
    "            n_fact*=val\n",
    "            if val == n-r:\n",
    "                n_r_fact = n_fact\n",
    "            if val == r:\n",
    "                r_fact = n_fact\n",
    "        print(\"p(n,r) : \",n_fact/n_r_fact)\n",
    "        print(\"c(n,r) : \",n_fact/(n_r_fact * r_fact))\n",
    "                \n",
    "permutate_combi(10,2)\n",
    "        \n",
    "    "
   ]
  },
  {
   "cell_type": "markdown",
   "id": "83e2cec0",
   "metadata": {},
   "source": [
    "## Question 5: Write a function that converts a decimal number to binary number"
   ]
  },
  {
   "cell_type": "code",
   "execution_count": 74,
   "id": "d603cf31",
   "metadata": {},
   "outputs": [
    {
     "name": "stdout",
     "output_type": "stream",
     "text": [
      "1,1,1,1,1,0,1,0,0,0,0\n",
      "CPU times: user 39 µs, sys: 10 µs, total: 49 µs\n",
      "Wall time: 46 µs\n"
     ]
    }
   ],
   "source": [
    "%%time\n",
    "def deci_bin_convert(num):\n",
    "    bin=[]\n",
    "    while num != 0:\n",
    "        bin.append(str(num%2))\n",
    "        num = int(num/2)\n",
    "    print(\",\".join(bin[::-1]))\n",
    "deci_bin_convert(2000)\n",
    "        "
   ]
  },
  {
   "cell_type": "markdown",
   "id": "9d5b9c55",
   "metadata": {},
   "source": [
    "## Question 6: Write a function cubesum() that accepts an integer and returns the sum of the cubes of individual digits of that number. Use this function to make functions PrintArmstrong() and isArmstrong() to print Armstrong numbers and to find whether is an Armstrong number."
   ]
  },
  {
   "cell_type": "code",
   "execution_count": 75,
   "id": "5fc0391f",
   "metadata": {},
   "outputs": [],
   "source": [
    "# https://www.quora.com/What-is-an-Armstrong-number"
   ]
  },
  {
   "cell_type": "code",
   "execution_count": 76,
   "id": "cec89a53",
   "metadata": {},
   "outputs": [
    {
     "name": "stdout",
     "output_type": "stream",
     "text": [
      "153\n",
      "1, 2, 3, 4, 5, 6, 7, 8, 9, 153, 370, 371, 407, 1634\n",
      "it is armstring number\n",
      "CPU times: user 4.03 ms, sys: 54 µs, total: 4.08 ms\n",
      "Wall time: 4.06 ms\n"
     ]
    }
   ],
   "source": [
    "%%time\n",
    "def cubesum(num,power=3):\n",
    "    sums = 0\n",
    "    while num != 0:\n",
    "        mul = 1\n",
    "        for i in range(1,power+1):\n",
    "            mul *= (num%10)\n",
    "        sums+=mul\n",
    "        num = int(num/10)\n",
    "    return sums\n",
    "\n",
    "def printarmstrong(num):\n",
    "    armstring = []\n",
    "    for i in range(1,num+1):\n",
    "        if i == cubesum(i,len(str(i))):\n",
    "            armstring.append(str(i))\n",
    "    return ', '.join(armstring)\n",
    "\n",
    "\n",
    "\n",
    "def isarmstrong(num):\n",
    "    if num == cubesum(num,len(str(num))):\n",
    "        string = 'it is armstring number'\n",
    "    else:\n",
    "        string = 'it is not an armstrong number'\n",
    "    return string\n",
    "\n",
    "print(cubesum(153))\n",
    "print(printarmstrong(2000))\n",
    "print(isarmstrong(1634))\n",
    "                    \n",
    "        "
   ]
  },
  {
   "cell_type": "markdown",
   "id": "060a2ca8",
   "metadata": {},
   "source": [
    "## Question 7 : Write a function prodDigits() that inputs a number and returns the product of digits of that number."
   ]
  },
  {
   "cell_type": "code",
   "execution_count": 86,
   "id": "2fa3b157",
   "metadata": {},
   "outputs": [
    {
     "name": "stdout",
     "output_type": "stream",
     "text": [
      "CPU times: user 26 µs, sys: 1e+03 ns, total: 27 µs\n",
      "Wall time: 30 µs\n"
     ]
    },
    {
     "data": {
      "text/plain": [
       "362880"
      ]
     },
     "execution_count": 86,
     "metadata": {},
     "output_type": "execute_result"
    }
   ],
   "source": [
    "%%time\n",
    "def prodDigits(num):\n",
    "    prods = 1\n",
    "    while num != 0:\n",
    "        prods *= (num%10)\n",
    "        num = int(num/10)\n",
    "    return prods\n",
    "prodDigits(123456789)"
   ]
  },
  {
   "cell_type": "markdown",
   "id": "2273807c",
   "metadata": {},
   "source": [
    "## Question 8: If all digits of a number n are multiplied by each other repeating with the product, the one digit number obtained at last is called the multiplicative digital root of n. The number of times digits need to be multiplied to reach one digit is called the multiplicative persistance of n. Example: 86 -> 48 -> 32 -> 6 (MDR 6, MPersistence 3)               341 -> 12->2           (MDR 2, MPersistence 2)Using the function prodDigits() of previous exercise write functions MDR() and MPersistence() that input a number and return its multiplicative digital root and multiplicative persistence respectively"
   ]
  },
  {
   "cell_type": "code",
   "execution_count": 85,
   "id": "84990f8c",
   "metadata": {},
   "outputs": [
    {
     "name": "stdout",
     "output_type": "stream",
     "text": [
      "MDR of 86 is 6 \n",
      "MPersistance of 86 is 3 \n",
      "MDR of 341 is 2 \n",
      "MPersistance of 341 is 2 \n"
     ]
    }
   ],
   "source": [
    "def MDR(num):\n",
    "    if len(str(num)) == 1:\n",
    "        return num\n",
    "    else:\n",
    "        while len(str(num)) != 1:\n",
    "            num = prodDigits(num)\n",
    "        else:\n",
    "            return num\n",
    "def MPersistance(num):\n",
    "    if len(str(num)) == 1:\n",
    "        return 1\n",
    "    else:\n",
    "        val = 0\n",
    "        while len(str(num)) != 1:\n",
    "            num = prodDigits(num)\n",
    "            val+=1\n",
    "        else:\n",
    "            return val\n",
    "    \n",
    "print('MDR of {} is {} '.format(86,MDR(86)))\n",
    "print('MPersistance of {} is {} '.format(86,MPersistance(86)))\n",
    "print('MDR of {} is {} '.format(341,MDR(341)))\n",
    "print('MPersistance of {} is {} '.format(341,MPersistance(341)))     \n",
    "    \n",
    "    "
   ]
  },
  {
   "cell_type": "markdown",
   "id": "fefa5ee3",
   "metadata": {},
   "source": [
    "### Question 9: Write a function sumPdivisors() that finds the sum of proper divisors of a number. Proper divisors of a number are those numbers by which the number is divisible, except the number itself.  For example proper divisors of 36 are 1, 2, 3, 4, 6, 9, 18"
   ]
  },
  {
   "cell_type": "code",
   "execution_count": 79,
   "id": "a5cc728e",
   "metadata": {},
   "outputs": [
    {
     "name": "stdout",
     "output_type": "stream",
     "text": [
      "CPU times: user 14 µs, sys: 0 ns, total: 14 µs\n",
      "Wall time: 16.2 µs\n"
     ]
    },
    {
     "data": {
      "text/plain": [
       "55"
      ]
     },
     "execution_count": 79,
     "metadata": {},
     "output_type": "execute_result"
    }
   ],
   "source": [
    "%%time\n",
    "def sumPdivisors(num):\n",
    "    sums=0\n",
    "    for val in range(1,int(num/2)+1):\n",
    "        if num % val == 0:\n",
    "            sums+=val\n",
    "    return sums\n",
    "\n",
    "sumPdivisors(36)\n",
    "        "
   ]
  },
  {
   "cell_type": "markdown",
   "id": "50b52c67",
   "metadata": {},
   "source": [
    "## Question 10: A number is called perfect if the sum of proper divisors of that number is equal to the number. For example 28 is perfect number, since 1+2+4+7+14=28. Write a program to print all the perfect numbers in a given range"
   ]
  },
  {
   "cell_type": "code",
   "execution_count": 80,
   "id": "39b6f229",
   "metadata": {},
   "outputs": [
    {
     "name": "stdout",
     "output_type": "stream",
     "text": [
      "6 ,28 ,496 ,"
     ]
    }
   ],
   "source": [
    "def perfectnum(range1,range2):\n",
    "    for sel in range(range1,range2+1):\n",
    "        #print('--------------')\n",
    "        #print(sel)\n",
    "        sums=0\n",
    "        for val in range(1,int(sel/2)+1):\n",
    "            if sel%val == 0:\n",
    "                #print(val)\n",
    "                sums+=val\n",
    "        if sel==sums:\n",
    "                print(sel,end = ' ,')\n",
    "perfectnum(1,1000)"
   ]
  },
  {
   "cell_type": "markdown",
   "id": "8d5cce1f",
   "metadata": {},
   "source": [
    "## Question 11: Two different numbers are called amicable numbers if the sum of the proper divisors of each is equal to the other number. For example 220 and 284 are amicable numbers\n",
    "## Sum of proper divisors of 220 = 1+2+4+5+10+11+20+22+44+55+110 = 284Sum of proper divisors of 284 = 1+2+4+71+142 = 220Write a function to print pairs of amicable numbers in a range"
   ]
  },
  {
   "cell_type": "code",
   "execution_count": 81,
   "id": "82ee6dc2",
   "metadata": {},
   "outputs": [
    {
     "name": "stdout",
     "output_type": "stream",
     "text": [
      "[(220, 284), (1184, 1210), (2620, 2924), (5020, 5564), (6232, 6368)]\n"
     ]
    }
   ],
   "source": [
    "def amicable_nums(num1,num2):\n",
    "    amiclist=[]\n",
    "    for val in range(num1,num2+1):\n",
    "        sums = 0\n",
    "        sum2=0\n",
    "        for sel in range(1,int(val/2)+1):\n",
    "            if val%sel==0:\n",
    "                sums+=sel\n",
    "        for val1 in range(1,int(sums/2)+1):\n",
    "            if sums%val1==0:\n",
    "                sum2+=val1\n",
    "        if (val == sum2) and (val != sums):\n",
    "            amiclist.append(tuple(sorted((val,sums))))\n",
    "    print(sorted(set(amiclist)))\n",
    "                  \n",
    "amicable_nums(1,10000)\n",
    "        \n",
    "        "
   ]
  },
  {
   "cell_type": "markdown",
   "id": "d63b8f68",
   "metadata": {},
   "source": [
    "## Question 12: Write a program which can filter odd numbers in a list by using filter function"
   ]
  },
  {
   "cell_type": "code",
   "execution_count": 82,
   "id": "16d1b427",
   "metadata": {},
   "outputs": [
    {
     "name": "stdout",
     "output_type": "stream",
     "text": [
      "[2, 4, 6, 8, 90, 10]\n"
     ]
    }
   ],
   "source": [
    "def oddremover(var):\n",
    "    if var%2==0:\n",
    "        return var\n",
    "inptlist=[1,2,3,4,5,6,7,8,90,10,11]\n",
    "print(list(filter(oddremover,inptlist)))\n"
   ]
  },
  {
   "cell_type": "markdown",
   "id": "8ce99cf6",
   "metadata": {},
   "source": [
    "## Question 13: Write a program which can map() to make a list whose elements are cube of elements in a given list"
   ]
  },
  {
   "cell_type": "code",
   "execution_count": 83,
   "id": "88a3dca9",
   "metadata": {},
   "outputs": [
    {
     "name": "stdout",
     "output_type": "stream",
     "text": [
      "[1, 8, 27, 64, 125, 216, 343, 512, 729000, 1000, 1331]\n"
     ]
    }
   ],
   "source": [
    "def cubes(var):\n",
    "    return var*var*var\n",
    "inptlist=[1,2,3,4,5,6,7,8,90,10,11]\n",
    "print(list(map(cubes,inptlist)))\n"
   ]
  },
  {
   "cell_type": "markdown",
   "id": "31dac56e",
   "metadata": {},
   "source": [
    "## Question 14: Write a program which can map() and filter() to make a list whose elements are cube of even number in a given list"
   ]
  },
  {
   "cell_type": "code",
   "execution_count": 84,
   "id": "b120bcfa",
   "metadata": {},
   "outputs": [
    {
     "name": "stdout",
     "output_type": "stream",
     "text": [
      "[8, 64, 216, 512, 729000, 1000]\n"
     ]
    }
   ],
   "source": [
    "inptlist=[1,2,3,4,5,6,7,8,90,10,11]\n",
    "print(list(map(cubes,list(filter(oddremover,inptlist)))))\n"
   ]
  },
  {
   "cell_type": "code",
   "execution_count": null,
   "id": "0e12726d",
   "metadata": {},
   "outputs": [],
   "source": []
  }
 ],
 "metadata": {
  "kernelspec": {
   "display_name": "Python 3",
   "language": "python",
   "name": "python3"
  },
  "language_info": {
   "codemirror_mode": {
    "name": "ipython",
    "version": 3
   },
   "file_extension": ".py",
   "mimetype": "text/x-python",
   "name": "python",
   "nbconvert_exporter": "python",
   "pygments_lexer": "ipython3",
   "version": "3.8.13"
  }
 },
 "nbformat": 4,
 "nbformat_minor": 5
}
